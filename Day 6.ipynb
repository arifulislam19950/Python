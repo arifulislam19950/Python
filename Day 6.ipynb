{
 "cells": [
  {
   "cell_type": "markdown",
   "id": "8105e4ab-fce5-4bc0-907f-3b0c5bc1365a",
   "metadata": {},
   "source": [
    "Python Booleans"
   ]
  },
  {
   "cell_type": "code",
   "execution_count": 10,
   "id": "ea846e85-fa27-4189-85ca-12f38252e637",
   "metadata": {},
   "outputs": [
    {
     "name": "stdout",
     "output_type": "stream",
     "text": [
      "b is not greater than a\n"
     ]
    }
   ],
   "source": [
    "a = 200\n",
    "b = 20\n",
    "\n",
    "if b > a:\n",
    "  print(\"b is greater than a\")\n",
    "else:\n",
    "  print(\"b is not greater than a\")\n"
   ]
  },
  {
   "cell_type": "code",
   "execution_count": 7,
   "id": "a3eeded2-37f1-4ab3-9eb6-0eb6e8b27704",
   "metadata": {},
   "outputs": [
    {
     "name": "stdout",
     "output_type": "stream",
     "text": [
      "b  is a gaterthen a\n"
     ]
    }
   ],
   "source": [
    "a=5000\n",
    "b=20220020200020200020202\n",
    "if b > a:\n",
    "    print(\"b  is a gaterthen a\")\n",
    "else:\n",
    "    print(\" b is not gaterthen a\")"
   ]
  },
  {
   "cell_type": "code",
   "execution_count": null,
   "id": "f640acf3-bdac-4f94-b285-332bbe075a03",
   "metadata": {},
   "outputs": [],
   "source": []
  }
 ],
 "metadata": {
  "kernelspec": {
   "display_name": "Python 3 (ipykernel)",
   "language": "python",
   "name": "python3"
  },
  "language_info": {
   "codemirror_mode": {
    "name": "ipython",
    "version": 3
   },
   "file_extension": ".py",
   "mimetype": "text/x-python",
   "name": "python",
   "nbconvert_exporter": "python",
   "pygments_lexer": "ipython3",
   "version": "3.12.5"
  }
 },
 "nbformat": 4,
 "nbformat_minor": 5
}
