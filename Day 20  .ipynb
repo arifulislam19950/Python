{
 "cells": [
  {
   "cell_type": "code",
   "execution_count": 5,
   "id": "a709fb8e-1289-44c2-b193-882c41e6bf50",
   "metadata": {},
   "outputs": [
    {
     "name": "stdout",
     "output_type": "stream",
     "text": [
      "shojan\n"
     ]
    }
   ],
   "source": [
    "dic={\"name\":\"shojan\",\"roll\":\"jahidul\"}\n",
    "print(dic[\"name\"])"
   ]
  },
  {
   "cell_type": "code",
   "execution_count": 9,
   "id": "b0dad8cd-f16c-4abc-b741-c78833bb3af6",
   "metadata": {},
   "outputs": [
    {
     "name": "stdout",
     "output_type": "stream",
     "text": [
      "25\n"
     ]
    }
   ],
   "source": [
    "sum=0\n",
    "for i in range(1,11,2):\n",
    "    sum=sum+i\n",
    "    print(sum)\n"
   ]
  },
  {
   "cell_type": "code",
   "execution_count": null,
   "id": "3350e811-4944-436a-8e85-33c7711b7f7e",
   "metadata": {},
   "outputs": [],
   "source": []
  }
 ],
 "metadata": {
  "kernelspec": {
   "display_name": "Python 3 (ipykernel)",
   "language": "python",
   "name": "python3"
  },
  "language_info": {
   "codemirror_mode": {
    "name": "ipython",
    "version": 3
   },
   "file_extension": ".py",
   "mimetype": "text/x-python",
   "name": "python",
   "nbconvert_exporter": "python",
   "pygments_lexer": "ipython3",
   "version": "3.12.5"
  }
 },
 "nbformat": 4,
 "nbformat_minor": 5
}
