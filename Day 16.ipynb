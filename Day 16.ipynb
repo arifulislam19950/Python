{
 "cells": [
  {
   "cell_type": "code",
   "execution_count": 2,
   "id": "ec327819-6ac0-41cb-85e3-a23d054dfbc4",
   "metadata": {},
   "outputs": [],
   "source": [
    "def calculate (num1,num2=4):\n",
    "    res = num1 * num2\n",
    "    print(res)\n",
    "    calculate(5,6)"
   ]
  },
  {
   "cell_type": "code",
   "execution_count": 5,
   "id": "16e12716-2634-4447-8ef4-632bc60e1fe6",
   "metadata": {},
   "outputs": [
    {
     "ename": "TypeError",
     "evalue": "range expected at most 3 arguments, got 4",
     "output_type": "error",
     "traceback": [
      "\u001b[1;31m---------------------------------------------------------------------------\u001b[0m",
      "\u001b[1;31mTypeError\u001b[0m                                 Traceback (most recent call last)",
      "Cell \u001b[1;32mIn[5], line 1\u001b[0m\n\u001b[1;32m----> 1\u001b[0m \u001b[38;5;28;01mfor\u001b[39;00m x \u001b[38;5;129;01min\u001b[39;00m \u001b[38;5;28;43mrange\u001b[39;49m\u001b[43m(\u001b[49m\u001b[38;5;241;43m0.5\u001b[39;49m\u001b[43m,\u001b[49m\u001b[43m \u001b[49m\u001b[38;5;241;43m5.5\u001b[39;49m\u001b[43m,\u001b[49m\u001b[38;5;241;43m0\u001b[39;49m\u001b[43m,\u001b[49m\u001b[38;5;241;43m5\u001b[39;49m\u001b[43m)\u001b[49m:\n\u001b[0;32m      2\u001b[0m     \u001b[38;5;28mprint\u001b[39m(x)\n",
      "\u001b[1;31mTypeError\u001b[0m: range expected at most 3 arguments, got 4"
     ]
    }
   ],
   "source": [
    "for x in range(0.5, 5.5,0,5):\n",
    "    print(x)"
   ]
  },
  {
   "cell_type": "code",
   "execution_count": 6,
   "id": "384cb8ff-3fb0-4b75-8fba-d83a58dc5254",
   "metadata": {},
   "outputs": [
    {
     "name": "stdout",
     "output_type": "stream",
     "text": [
      "17.0\n"
     ]
    }
   ],
   "source": [
    "x =3 / 4* (3+2)*4+2\n",
    "print(x)"
   ]
  },
  {
   "cell_type": "code",
   "execution_count": 7,
   "id": "21f614ba-4680-4b3f-9d9f-8071266b12f9",
   "metadata": {},
   "outputs": [
    {
     "name": "stdout",
     "output_type": "stream",
     "text": [
      "yn\n"
     ]
    }
   ],
   "source": [
    "str =\"pynative \"\n",
    "print(str[1:3])"
   ]
  },
  {
   "cell_type": "code",
   "execution_count": 10,
   "id": "4b562713-8e70-4c5c-a675-2bc241d24657",
   "metadata": {},
   "outputs": [
    {
     "ename": "TypeError",
     "evalue": "set.add() takes exactly one argument (2 given)",
     "output_type": "error",
     "traceback": [
      "\u001b[1;31m---------------------------------------------------------------------------\u001b[0m",
      "\u001b[1;31mTypeError\u001b[0m                                 Traceback (most recent call last)",
      "Cell \u001b[1;32mIn[10], line 2\u001b[0m\n\u001b[0;32m      1\u001b[0m sampleSet\u001b[38;5;241m=\u001b[39m{\u001b[38;5;124m\"\u001b[39m\u001b[38;5;124mjodi\u001b[39m\u001b[38;5;124m\"\u001b[39m,\u001b[38;5;124m\"\u001b[39m\u001b[38;5;124meric\u001b[39m\u001b[38;5;124m\"\u001b[39m,\u001b[38;5;124m\"\u001b[39m\u001b[38;5;124mGarry\u001b[39m\u001b[38;5;124m\"\u001b[39m}\n\u001b[1;32m----> 2\u001b[0m \u001b[43msampleSet\u001b[49m\u001b[38;5;241;43m.\u001b[39;49m\u001b[43madd\u001b[49m\u001b[43m(\u001b[49m\u001b[38;5;241;43m1\u001b[39;49m\u001b[43m,\u001b[49m\u001b[38;5;124;43m\"\u001b[39;49m\u001b[38;5;124;43mvicki\u001b[39;49m\u001b[38;5;124;43m\"\u001b[39;49m\u001b[43m)\u001b[49m\n\u001b[0;32m      3\u001b[0m \u001b[38;5;28mprint\u001b[39m(sampleSet)\n",
      "\u001b[1;31mTypeError\u001b[0m: set.add() takes exactly one argument (2 given)"
     ]
    }
   ],
   "source": [
    "sampleSet={\"jodi\",\"eric\",\"Garry\"}\n",
    "sampleSet.add(1,\"vicki\")\n",
    "print(sampleSet)\n"
   ]
  },
  {
   "cell_type": "markdown",
   "id": "883c7929-abdc-4c90-8778-dcae2c58b962",
   "metadata": {},
   "source": [
    "var = \"james \" *2*3\n",
    "print(var)"
   ]
  },
  {
   "cell_type": "code",
   "execution_count": 11,
   "id": "09301d2e-15a3-439e-a018-fac8a2df4860",
   "metadata": {},
   "outputs": [
    {
     "name": "stdout",
     "output_type": "stream",
     "text": [
      "james james james james james james \n"
     ]
    }
   ],
   "source": [
    "  var = \"james \" *2*3\n",
    "print(var)"
   ]
  },
  {
   "cell_type": "code",
   "execution_count": 15,
   "id": "7347eeff-fc25-497b-a926-d571cee10171",
   "metadata": {},
   "outputs": [
    {
     "name": "stdout",
     "output_type": "stream",
     "text": [
      "arifarifarifarifarifarif\n"
     ]
    }
   ],
   "source": [
    "nabil = \"arif\" *2*3\n",
    "print(nabil)"
   ]
  },
  {
   "cell_type": "code",
   "execution_count": 17,
   "id": "0d151ad7-2589-42ec-aa79-3d64c486cb20",
   "metadata": {},
   "outputs": [
    {
     "name": "stdout",
     "output_type": "stream",
     "text": [
      "True\n",
      "False\n"
     ]
    }
   ],
   "source": [
    "listone = [20,40,60,80]\n",
    "listTwo = [20,40,60,80]\n",
    "print(listone ==  listTwo)\n",
    "print(listone is listTwo)"
   ]
  },
  {
   "cell_type": "code",
   "execution_count": 18,
   "id": "92c81a75-67e0-4f7d-8ba1-d5be7869263c",
   "metadata": {},
   "outputs": [
    {
     "name": "stdout",
     "output_type": "stream",
     "text": [
      "25\n",
      "125\n"
     ]
    }
   ],
   "source": [
    "arif1 = 5**2\n",
    "arif2 = 5**3\n",
    "print(arif1)\n",
    "print(arif2)"
   ]
  },
  {
   "cell_type": "code",
   "execution_count": 20,
   "id": "2f9abea3-1d8d-423a-bef1-e7c8c951a296",
   "metadata": {},
   "outputs": [
    {
     "name": "stdout",
     "output_type": "stream",
     "text": [
      "10,11,12,13,14,"
     ]
    }
   ],
   "source": [
    " for i in range(10,15,1):\n",
    "     print(i,end=',')\n",
    "         "
   ]
  },
  {
   "cell_type": "code",
   "execution_count": 21,
   "id": "f019e53f-3ae1-4f5b-a8e8-f78259a85d03",
   "metadata": {},
   "outputs": [
    {
     "name": "stdout",
     "output_type": "stream",
     "text": [
      "maj\n"
     ]
    }
   ],
   "source": [
    "var = \"james bond \"\n",
    "print(var[2::-1])"
   ]
  },
  {
   "cell_type": "code",
   "execution_count": 23,
   "id": "e9f12205-a65c-451c-aacd-7e6bd100a994",
   "metadata": {},
   "outputs": [],
   "source": [
    "salary = 8000\n",
    "def printSalary():\n",
    "    salary = 12000\n",
    "    print(\"Salary:\" , salary)\n",
    "    printSalary()\n",
    "    print(\"Salary:\", Salary )"
   ]
  },
  {
   "cell_type": "code",
   "execution_count": 27,
   "id": "90248962-bf14-4fbc-ba62-e06918b3e663",
   "metadata": {},
   "outputs": [
    {
     "ename": "TypeError",
     "evalue": "list.append() takes exactly one argument (2 given)",
     "output_type": "error",
     "traceback": [
      "\u001b[1;31m---------------------------------------------------------------------------\u001b[0m",
      "\u001b[1;31mTypeError\u001b[0m                                 Traceback (most recent call last)",
      "Cell \u001b[1;32mIn[27], line 2\u001b[0m\n\u001b[0;32m      1\u001b[0m sampLest \u001b[38;5;241m=\u001b[39m[\u001b[38;5;124m\"\u001b[39m\u001b[38;5;124mjon\u001b[39m\u001b[38;5;124m\"\u001b[39m,\u001b[38;5;124m\"\u001b[39m\u001b[38;5;124mkelly\u001b[39m\u001b[38;5;124m\"\u001b[39m,\u001b[38;5;124m\"\u001b[39m\u001b[38;5;124mjessa\u001b[39m\u001b[38;5;124m\"\u001b[39m]\n\u001b[1;32m----> 2\u001b[0m \u001b[43msampLest\u001b[49m\u001b[38;5;241;43m.\u001b[39;49m\u001b[43mappend\u001b[49m\u001b[43m(\u001b[49m\u001b[38;5;241;43m2\u001b[39;49m\u001b[43m,\u001b[49m\u001b[38;5;124;43m\"\u001b[39;49m\u001b[38;5;124;43mscott\u001b[39;49m\u001b[38;5;124;43m\"\u001b[39;49m\u001b[43m)\u001b[49m\n\u001b[0;32m      3\u001b[0m \u001b[38;5;28mprint\u001b[39m(sampLest)\n",
      "\u001b[1;31mTypeError\u001b[0m: list.append() takes exactly one argument (2 given)"
     ]
    }
   ],
   "source": [
    "sampLest =[\"jon\",\"kelly\",\"jessa\"]\n",
    "sampLest.append(2,\"scott\")\n",
    "print(sampLest)"
   ]
  },
  {
   "cell_type": "code",
   "execution_count": 29,
   "id": "38f02e3d-2d83-4142-bdfe-e8528940eba3",
   "metadata": {},
   "outputs": [
    {
     "name": "stdout",
     "output_type": "stream",
     "text": [
      "1\n",
      "2\n",
      "3\n",
      "4\n",
      "this is else block statement\n"
     ]
    }
   ],
   "source": [
    "for i in range (1,5):\n",
    "    print(i)\n",
    "else:\n",
    "    print(\"this is else block statement\")\n",
    "\n"
   ]
  },
  {
   "cell_type": "code",
   "execution_count": 30,
   "id": "8bab6d31-3746-444c-833b-2cffbdd7394e",
   "metadata": {},
   "outputs": [
    {
     "name": "stdout",
     "output_type": "stream",
     "text": [
      "10 20 30\n"
     ]
    }
   ],
   "source": [
    "p,q,r =10,20,30\n",
    "print(p,q,r)"
   ]
  },
  {
   "cell_type": "code",
   "execution_count": null,
   "id": "ab1ce5f2-ab34-43e6-9f11-398e7569b050",
   "metadata": {},
   "outputs": [],
   "source": []
  }
 ],
 "metadata": {
  "kernelspec": {
   "display_name": "Python 3 (ipykernel)",
   "language": "python",
   "name": "python3"
  },
  "language_info": {
   "codemirror_mode": {
    "name": "ipython",
    "version": 3
   },
   "file_extension": ".py",
   "mimetype": "text/x-python",
   "name": "python",
   "nbconvert_exporter": "python",
   "pygments_lexer": "ipython3",
   "version": "3.12.5"
  }
 },
 "nbformat": 4,
 "nbformat_minor": 5
}
