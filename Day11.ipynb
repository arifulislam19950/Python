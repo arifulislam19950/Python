{
 "cells": [
  {
   "cell_type": "code",
   "execution_count": null,
   "id": "937c1c72-4c0e-4a76-9670-48b2a8fc1395",
   "metadata": {},
   "outputs": [],
   "source": [
    "a=int(input(\"arif \"))\n",
    "b=int(input(\"shorov \"))\n",
    "c=int(input(\"nirob\"))\n",
    "sum"
   ]
  },
  {
   "cell_type": "code",
   "execution_count": null,
   "id": "4bf65281-843c-49ff-a8ab-c2b85b76a62b",
   "metadata": {},
   "outputs": [],
   "source": [
    " "
   ]
  }
 ],
 "metadata": {
  "kernelspec": {
   "display_name": "Python 3 (ipykernel)",
   "language": "python",
   "name": "python3"
  },
  "language_info": {
   "codemirror_mode": {
    "name": "ipython",
    "version": 3
   },
   "file_extension": ".py",
   "mimetype": "text/x-python",
   "name": "python",
   "nbconvert_exporter": "python",
   "pygments_lexer": "ipython3",
   "version": "3.12.5"
  }
 },
 "nbformat": 4,
 "nbformat_minor": 5
}
