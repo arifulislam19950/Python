{
 "cells": [
  {
   "cell_type": "code",
   "execution_count": null,
   "id": "45ff8db6-1e18-40d3-8a9f-7e7766cc620f",
   "metadata": {},
   "outputs": [],
   "source": [
    "arif=[\"this is delhi\\n\",\"this is paris \\n\",\"this is london \\n\"]\n",
    "while open (\"myfile.text\",\"w\")  as file1:\n",
    "     file1.wirte(\"Hello \\n\")\n",
    "     file1.writelines(arif)\n",
    "with open (\"myfile.txt\",\"r+\") as file1:\n",
    "    print(file1.red()\n"
   ]
  }
 ],
 "metadata": {
  "kernelspec": {
   "display_name": "Python 3 (ipykernel)",
   "language": "python",
   "name": "python3"
  },
  "language_info": {
   "codemirror_mode": {
    "name": "ipython",
    "version": 3
   },
   "file_extension": ".py",
   "mimetype": "text/x-python",
   "name": "python",
   "nbconvert_exporter": "python",
   "pygments_lexer": "ipython3",
   "version": "3.12.5"
  }
 },
 "nbformat": 4,
 "nbformat_minor": 5
}
