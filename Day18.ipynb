{
 "cells": [
  {
   "cell_type": "code",
   "execution_count": 9,
   "id": "e63d0c3f-5f41-49c4-82ee-43f31d891822",
   "metadata": {},
   "outputs": [
    {
     "name": "stdout",
     "output_type": "stream",
     "text": [
      "True\n",
      "True\n"
     ]
    }
   ],
   "source": [
    "arif = {1,2,3,4,5,6,7,8,9,10}\n",
    "print( 1 in arif)\n",
    "print( 5 in arif)"
   ]
  },
  {
   "cell_type": "code",
   "execution_count": 12,
   "id": "b742525f-0238-4424-917f-f6c31abcda1e",
   "metadata": {},
   "outputs": [
    {
     "name": "stdout",
     "output_type": "stream",
     "text": [
      "True\n",
      "False\n",
      "True\n"
     ]
    }
   ],
   "source": [
    "arif={\"nabil\",\"rifat\",\"ramim\",\"siyem\",\"sojan\"}\n",
    "print(\"sojan\"in arif )\n",
    "print(\"arif\" in arif )\n",
    "print(\"arif \" not in arif )"
   ]
  },
  {
   "cell_type": "code",
   "execution_count": 14,
   "id": "e282e221-c299-4668-adf6-970257366aa1",
   "metadata": {},
   "outputs": [
    {
     "name": "stdout",
     "output_type": "stream",
     "text": [
      "0\n",
      "1\n",
      "2\n",
      "3\n",
      "4\n",
      "the loop is end \n"
     ]
    }
   ],
   "source": [
    "for n  in  range (0,5):\n",
    "    print(n)\n",
    "    n=n+1\n",
    "else:\n",
    "     print(\"the loop is end \")"
   ]
  },
  {
   "cell_type": "code",
   "execution_count": null,
   "id": "cabfcd34-40d0-48e9-aa5b-7335560aeb47",
   "metadata": {},
   "outputs": [],
   "source": [
    "a=1 \n",
    "while  a<=5:\n",
    "    if a ==3:\n",
    "        break\n",
    "print(a)\n",
    "        a=a+1"
   ]
  },
  {
   "cell_type": "code",
   "execution_count": null,
   "id": "c16d4e1f-4493-44dd-ac70-55361ff06341",
   "metadata": {},
   "outputs": [],
   "source": []
  }
 ],
 "metadata": {
  "kernelspec": {
   "display_name": "Python 3 (ipykernel)",
   "language": "python",
   "name": "python3"
  },
  "language_info": {
   "codemirror_mode": {
    "name": "ipython",
    "version": 3
   },
   "file_extension": ".py",
   "mimetype": "text/x-python",
   "name": "python",
   "nbconvert_exporter": "python",
   "pygments_lexer": "ipython3",
   "version": "3.12.5"
  }
 },
 "nbformat": 4,
 "nbformat_minor": 5
}
