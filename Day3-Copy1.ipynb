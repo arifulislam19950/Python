{
 "cells": [
  {
   "cell_type": "markdown",
   "id": "2cbd2519-7ee0-4eb7-a1a6-7cd5bbcc3a39",
   "metadata": {},
   "source": [
    "Python User Input"
   ]
  },
  {
   "cell_type": "code",
   "execution_count": 1,
   "id": "6cbc066e-47ac-41e9-8225-7383952999c0",
   "metadata": {},
   "outputs": [
    {
     "name": "stdin",
     "output_type": "stream",
     "text": [
      "enter youer username: arif\n",
      "enter you password: 1111\n"
     ]
    },
    {
     "name": "stdout",
     "output_type": "stream",
     "text": [
      "arif\n",
      "1111\n"
     ]
    }
   ],
   "source": [
    "username= input(\"enter youer username:\")\n",
    "passweord= input(\"enter you password:\")\n",
    "print(username)\n",
    "print(passweord)"
   ]
  },
  {
   "cell_type": "code",
   "execution_count": 4,
   "id": "ca848d7b-4a72-49e3-ad98-1de82ed64a17",
   "metadata": {},
   "outputs": [
    {
     "name": "stdin",
     "output_type": "stream",
     "text": [
      "enter you name: arif\n"
     ]
    },
    {
     "name": "stdout",
     "output_type": "stream",
     "text": [
      "arif\n"
     ]
    }
   ],
   "source": [
    "arif=input(\"enter you name:\")\n",
    "print(arif)"
   ]
  },
  {
   "cell_type": "code",
   "execution_count": 5,
   "id": "1c09b0b1-c08e-4866-a68e-fdbb6648c93e",
   "metadata": {},
   "outputs": [
    {
     "name": "stdin",
     "output_type": "stream",
     "text": [
      "what is you gril frined name: tasniya\n"
     ]
    },
    {
     "name": "stdout",
     "output_type": "stream",
     "text": [
      "tasniya\n"
     ]
    }
   ],
   "source": [
    "nabil=input(\"what is you grilfrined name:\")\n",
    "print(nabil)"
   ]
  },
  {
   "cell_type": "code",
   "execution_count": 6,
   "id": "6f98fc8a-0479-4e76-b0bc-6c3209a0cda3",
   "metadata": {},
   "outputs": [
    {
     "name": "stdin",
     "output_type": "stream",
     "text": [
      "enter youer number: 01946072569\n"
     ]
    },
    {
     "name": "stdout",
     "output_type": "stream",
     "text": [
      "01946072569\n"
     ]
    }
   ],
   "source": [
    "num= input(\"enter youer number:\")\n",
    "print(num)"
   ]
  },
  {
   "cell_type": "code",
   "execution_count": 8,
   "id": "69163f03-d97d-4610-b56e-0a1771645758",
   "metadata": {},
   "outputs": [
    {
     "name": "stdin",
     "output_type": "stream",
     "text": [
      "enter youer collage name: imb polyternich institute  \n"
     ]
    },
    {
     "name": "stdout",
     "output_type": "stream",
     "text": [
      "imb polyternich institute  \n"
     ]
    }
   ],
   "source": [
    "collage= input(\"enter youer collage name:\")\n",
    "print(collage)"
   ]
  },
  {
   "cell_type": "code",
   "execution_count": null,
   "id": "2968d755-d50b-46f1-8764-76065064d34d",
   "metadata": {},
   "outputs": [],
   "source": []
  }
 ],
 "metadata": {
  "kernelspec": {
   "display_name": "Python 3 (ipykernel)",
   "language": "python",
   "name": "python3"
  },
  "language_info": {
   "codemirror_mode": {
    "name": "ipython",
    "version": 3
   },
   "file_extension": ".py",
   "mimetype": "text/x-python",
   "name": "python",
   "nbconvert_exporter": "python",
   "pygments_lexer": "ipython3",
   "version": "3.12.5"
  }
 },
 "nbformat": 4,
 "nbformat_minor": 5
}
