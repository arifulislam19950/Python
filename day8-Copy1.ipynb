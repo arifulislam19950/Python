{
 "cells": [
  {
   "cell_type": "code",
   "execution_count": 5,
   "id": "d964f764-df26-4b13-b4c0-7b20030974b2",
   "metadata": {},
   "outputs": [
    {
     "name": "stdout",
     "output_type": "stream",
     "text": [
      "[1, 2, 3, 4, 5, 6, 7, 8]\n"
     ]
    }
   ],
   "source": [
    "a=[1,2,3,4]\n",
    "b=[5,6,7,8]\n",
    "a.extend(b)\n",
    "print(a)"
   ]
  },
  {
   "cell_type": "code",
   "execution_count": 14,
   "id": "32d0cc7a-f85e-4c3c-92e6-a92c35185bef",
   "metadata": {},
   "outputs": [
    {
     "name": "stdout",
     "output_type": "stream",
     "text": [
      "['abcd', 1, 2, 3, 4]\n"
     ]
    }
   ],
   "source": [
    "arif=[\"a\" \"b\" \"c\" \"d\"]\n",
    "nabil=[1,2,3,4,]\n",
    "arif.extend(nabil)\n",
    "print(arif)"
   ]
  },
  {
   "cell_type": "code",
   "execution_count": null,
   "id": "65aabf37-6162-4f7c-aafb-9473f42c2aa2",
   "metadata": {},
   "outputs": [],
   "source": []
  }
 ],
 "metadata": {
  "kernelspec": {
   "display_name": "Python 3 (ipykernel)",
   "language": "python",
   "name": "python3"
  },
  "language_info": {
   "codemirror_mode": {
    "name": "ipython",
    "version": 3
   },
   "file_extension": ".py",
   "mimetype": "text/x-python",
   "name": "python",
   "nbconvert_exporter": "python",
   "pygments_lexer": "ipython3",
   "version": "3.12.5"
  }
 },
 "nbformat": 4,
 "nbformat_minor": 5
}
