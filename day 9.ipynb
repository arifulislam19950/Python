{
 "cells": [
  {
   "cell_type": "code",
   "execution_count": 4,
   "id": "434079b6-d84b-4c32-b486-0d722f0dc419",
   "metadata": {},
   "outputs": [
    {
     "name": "stdout",
     "output_type": "stream",
     "text": [
      "oarng\n"
     ]
    }
   ],
   "source": [
    "arif=[\"apple\",\"banana\", \"oarng\"]\n",
    "print(arif[2])"
   ]
  },
  {
   "cell_type": "code",
   "execution_count": 8,
   "id": "62589b85-4c2d-4807-8de9-3f6afda4d592",
   "metadata": {},
   "outputs": [
    {
     "name": "stdout",
     "output_type": "stream",
     "text": [
      "sohoov\n"
     ]
    }
   ],
   "source": [
    "nabil=[\"arif\",\"mim\",\"shorav\",\"sohoov\",\"jannnat\"]\n",
    "print(nabil[3])"
   ]
  },
  {
   "cell_type": "code",
   "execution_count": 11,
   "id": "c8c56ab9-7561-4f12-9814-a518114600e7",
   "metadata": {},
   "outputs": [
    {
     "name": "stdout",
     "output_type": "stream",
     "text": [
      "fat\n"
     ]
    }
   ],
   "source": [
    "nabil=[\"airf\",\"tasniya\",\"tumi\",\"valll\",\"sonali\",\"tahat\",\"fat\"]\n",
    "print(nabil[6])"
   ]
  },
  {
   "cell_type": "code",
   "execution_count": 14,
   "id": "eae06997-17a1-4a91-97b8-36b25f4a78cd",
   "metadata": {},
   "outputs": [
    {
     "name": "stdout",
     "output_type": "stream",
     "text": [
      "['nabil', 'sh', 'nice', 'kana']\n"
     ]
    }
   ],
   "source": [
    "arif=[\"nabil\",\"tumi\",\"nice\",'kana']\n",
    "arif[1]=\"sh\"\n",
    "print(arif)"
   ]
  },
  {
   "cell_type": "code",
   "execution_count": 17,
   "id": "79f82dd6-f0d4-4527-ab5c-a68a19e39d21",
   "metadata": {},
   "outputs": [
    {
     "name": "stdout",
     "output_type": "stream",
     "text": [
      "8\n"
     ]
    }
   ],
   "source": [
    "print(pow(2, 3))\n"
   ]
  },
  {
   "cell_type": "code",
   "execution_count": 16,
   "id": "ade9fbbc-9a5a-470d-98fd-f0f0ec1d74d3",
   "metadata": {},
   "outputs": [
    {
     "name": "stdout",
     "output_type": "stream",
     "text": [
      "1000\n"
     ]
    }
   ],
   "source": []
  },
  {
   "cell_type": "code",
   "execution_count": 18,
   "id": "c3fb4931-10ba-4622-b2f9-0efcca904b01",
   "metadata": {},
   "outputs": [
    {
     "name": "stdout",
     "output_type": "stream",
     "text": [
      "8\n"
     ]
    }
   ],
   "source": [
    "print(pow(2,3))"
   ]
  },
  {
   "cell_type": "code",
   "execution_count": null,
   "id": "e22d1f58-39a6-4a54-9324-3cfcbab96342",
   "metadata": {},
   "outputs": [],
   "source": []
  }
 ],
 "metadata": {
  "kernelspec": {
   "display_name": "Python 3 (ipykernel)",
   "language": "python",
   "name": "python3"
  },
  "language_info": {
   "codemirror_mode": {
    "name": "ipython",
    "version": 3
   },
   "file_extension": ".py",
   "mimetype": "text/x-python",
   "name": "python",
   "nbconvert_exporter": "python",
   "pygments_lexer": "ipython3",
   "version": "3.12.5"
  }
 },
 "nbformat": 4,
 "nbformat_minor": 5
}
