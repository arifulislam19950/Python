{
 "cells": [
  {
   "cell_type": "markdown",
   "id": "9b412780-dde5-44ac-b29d-db363bc27fb8",
   "metadata": {},
   "source": [
    " তিনটা সংখ্যার মধ্য বড় সংখ্যা নির্ণয়ের প্রোগ্রাম"
   ]
  },
  {
   "cell_type": "code",
   "execution_count": 1,
   "id": "739721b5-2035-4779-9593-4baab1027cb8",
   "metadata": {},
   "outputs": [
    {
     "name": "stdin",
     "output_type": "stream",
     "text": [
      "Enter the value of a: 20\n",
      "Enter the value of b: 30\n",
      "Enter the value of c: 40\n"
     ]
    },
    {
     "name": "stdout",
     "output_type": "stream",
     "text": [
      "largest number is c: 40\n"
     ]
    }
   ],
   "source": [
    " a=int(input(\"Enter the value of a:\"))\n",
    "b=int(input(\"Enter the value of b:\"))\n",
    "c=int(input(\"Enter the value of c:\"))\n",
    "if a>b and a>c:\n",
    "    print(\"largest number is a:\",a)\n",
    "elif b>c and b>a: \n",
    "    print(\"largest number is b:\",b)\n",
    "else:\n",
    "    print(\"largest number is c:\",c)"
   ]
  },
  {
   "cell_type": "markdown",
   "id": "df6d780b-725f-40be-b6a1-3ea8fd12b568",
   "metadata": {},
   "source": [
    "1+2+3+4+...........................+N সিরিজের  মান বের করার পাইথন  প্রোগ্রাম। "
   ]
  },
  {
   "cell_type": "code",
   "execution_count": 4,
   "id": "30318da6-4633-4db8-9f18-b391d9fc9559",
   "metadata": {},
   "outputs": [
    {
     "name": "stdin",
     "output_type": "stream",
     "text": [
      "Enter the Range: 3\n"
     ]
    },
    {
     "name": "stdout",
     "output_type": "stream",
     "text": [
      "The series is: 1\n",
      "The series is: 3\n",
      "The series is: 6\n"
     ]
    }
   ],
   "source": [
    "n=int(input(\"Enter the Range:\"))\n",
    "sum=0\n",
    "for i in range (1,n+1,1):\n",
    "    sum=sum+i\n",
    "    print(\"The series is:\",sum)"
   ]
  },
  {
   "cell_type": "markdown",
   "id": "f039025d-60a1-43ef-8b49-41c77f9c4db6",
   "metadata": {},
   "source": [
    "1+3+5+7+...............+N সিরিজের  মান বের করার পাইথন  প্রোগ্রাম। "
   ]
  },
  {
   "cell_type": "code",
   "execution_count": null,
   "id": "272a30a9-e032-4e9a-ada0-aae169bd4275",
   "metadata": {},
   "outputs": [],
   "source": [
    "n=int(input(\"Enter the range:\"))\n",
    "sum=0\n",
    "for i in range (1,n+1,1):\n",
    "    sum = sum+i\n",
    "print(\"The series is:\",sum)"
   ]
  },
  {
   "cell_type": "markdown",
   "id": "59cd501b-b27b-41bf-8f53-8941ceb36424",
   "metadata": {},
   "source": [
    "2+4+6+8................+N সিরিজের  মান বের  করার পাইথন প্রোগ্রাম।"
   ]
  },
  {
   "cell_type": "code",
   "execution_count": null,
   "id": "bf0c805c-3081-4b70-9a0d-b9818c9e650f",
   "metadata": {},
   "outputs": [],
   "source": [
    "n=int(input(\"Enter the range:\"))\n",
    "sum=0\n",
    "for i in range(7,n+1,7):\n",
    "    sum=sum+i\n",
    "    print(\"the series is:\",sum)"
   ]
  },
  {
   "cell_type": "markdown",
   "id": "ece1fa9a-c884-4e3b-843d-7c3b112d0f9a",
   "metadata": {},
   "source": [
    "2+4+6+8................+N সিরিজের  মান বের  করার পাইথন প্রোগ্রাম।"
   ]
  },
  {
   "cell_type": "code",
   "execution_count": 1,
   "id": "4ed94b2a-11ec-48c0-bb5b-ece22036ece1",
   "metadata": {},
   "outputs": [
    {
     "name": "stdin",
     "output_type": "stream",
     "text": [
      "Enter the range: 10\n"
     ]
    },
    {
     "name": "stdout",
     "output_type": "stream",
     "text": [
      "the series is: 7\n"
     ]
    }
   ],
   "source": [
    "n=int(input(\"Enter the range:\"))\n",
    "sum=0\n",
    "for i in range(7,n+1,7):\n",
    "    sum=sum+i\n",
    "    print(\"the series is:\",sum)"
   ]
  },
  {
   "cell_type": "markdown",
   "id": "88a44c93-f711-4895-81f1-e9ae7adce184",
   "metadata": {},
   "source": [
    "Fibonacci series বের করার পাইথন প্রোগ্রাম"
   ]
  },
  {
   "cell_type": "code",
   "execution_count": 2,
   "id": "b0f4d3d7-80f5-4323-92ce-144aee4ff470",
   "metadata": {},
   "outputs": [
    {
     "name": "stdout",
     "output_type": "stream",
     "text": [
      "0\n",
      "1\n",
      "1\n",
      "2\n",
      "3\n",
      "5\n"
     ]
    }
   ],
   "source": [
    "a=0\n",
    "b=1\n",
    "print(a)\n",
    "print(b)\n",
    "for x in range(1,5):\n",
    "    c=a+b\n",
    "    print(c)\n",
    "    a=b\n",
    "    b=c\n",
    "    "
   ]
  },
  {
   "cell_type": "markdown",
   "id": "d5adf6df-55e7-4ded-a3f8-e496319b8d8b",
   "metadata": {},
   "source": [
    "Leap year  বা অধিবর্ষ বের করার পাইথন প্রোগ্রাম"
   ]
  },
  {
   "cell_type": "code",
   "execution_count": 3,
   "id": "57a4e9c0-eeff-4ce0-8714-60d5356b601f",
   "metadata": {},
   "outputs": [
    {
     "name": "stdin",
     "output_type": "stream",
     "text": [
      "Enter a year: 21\n"
     ]
    },
    {
     "name": "stdout",
     "output_type": "stream",
     "text": [
      "Not leap year\n"
     ]
    }
   ],
   "source": [
    "year=int(input(\"Enter a year:\"))\n",
    "if((year%4==0 and year%100!=0)or(year%400==0)):\n",
    "    print(\"leap year\")\n",
    "else:\n",
    "    print(\"Not leap year\")"
   ]
  },
  {
   "cell_type": "markdown",
   "id": "653a2628-74d8-40ec-9196-59081873a1f2",
   "metadata": {},
   "source": [
    "1  থেকে ১০০ পযন্ত  মৌলিক  সংখ্যা  বের করার পাইথন  প্রোগ্রা"
   ]
  },
  {
   "cell_type": "code",
   "execution_count": 4,
   "id": "ce3e9672-bf82-497d-b99e-aab63d3cdf3d",
   "metadata": {},
   "outputs": [
    {
     "name": "stdout",
     "output_type": "stream",
     "text": [
      " 2  3  5  7  11  13  17  19  23  29  31  37  41  43  47  53  59  61  67  71  73  79  83  89  97 "
     ]
    }
   ],
   "source": [
    "number =1\n",
    "while(number <= 100):\n",
    "    count = 0\n",
    "    i = 2\n",
    "    while(i<= number // 2):\n",
    "        if(number%i == 0):\n",
    "            count =count +1 # count =0\n",
    "            break\n",
    "        i = i+1\n",
    "    if(count == 0 and number !=1):\n",
    "        print(\" %d\" %number, end = ' ')\n",
    "    number =number +1"
   ]
  },
  {
   "cell_type": "markdown",
   "id": "5f70e31c-6462-44f9-87c2-7667b63c2886",
   "metadata": {},
   "source": [
    "একটি সংখ্যা জোড় না বিজোর তা বের করার পাইথন  প্রোগ্রাম"
   ]
  },
  {
   "cell_type": "code",
   "execution_count": 6,
   "id": "c30faa5c-c53b-441c-93df-6347e7efb63a",
   "metadata": {},
   "outputs": [
    {
     "name": "stdin",
     "output_type": "stream",
     "text": [
      "Enter the input number : 20\n"
     ]
    },
    {
     "name": "stdout",
     "output_type": "stream",
     "text": [
      "the number is even\n"
     ]
    }
   ],
   "source": [
    "num=int(input(\"Enter the input number :\"))\n",
    "if(num%2==0):\n",
    "    print(\"the number is even\")\n",
    "else:\n",
    "    print(\"the number is odd\")\n",
    "    "
   ]
  },
  {
   "cell_type": "markdown",
   "id": "5ff71cc9-7c8e-4eae-8b2e-f60c209e133c",
   "metadata": {},
   "source": [
    "কোন সংখ্যা  Factorial বের করার পাইথন প্রোগ্রাম"
   ]
  },
  {
   "cell_type": "code",
   "execution_count": null,
   "id": "25975274-0319-4fe7-a55f-85542f5b7e06",
   "metadata": {},
   "outputs": [],
   "source": [
    "\n",
    "# ARIFUL ISLAM \n",
    "num=int(input(\"Enter a number:\"))\n",
    "factorial=1\n",
    "if(num==0 or num==1):\n",
    "    print(\"The factorial is 1\")\n",
    "elif num<0:\n",
    "    print(\"Factorial does Not exist for negative number \")\n",
    "else:\n",
    "    for i in range(1,num+1):\n",
    "    factorial = factorial*i\n",
    "    print(\"The factorial of\",num,factoral)"
   ]
  },
  {
   "cell_type": "markdown",
   "id": "11befcf2-f3b0-4f31-92f0-270f43bc5d31",
   "metadata": {},
   "source": [
    "কোন সংখ্যা  পজেটিভ না নেগেটিভ  তা বের করার পাইথন  প্রোগ্রাম "
   ]
  },
  {
   "cell_type": "code",
   "execution_count": 7,
   "id": "2216de40-352c-4c4e-bf30-74409e13b2b6",
   "metadata": {},
   "outputs": [
    {
     "name": "stdin",
     "output_type": "stream",
     "text": [
      "Enter the number: 30\n"
     ]
    },
    {
     "name": "stdout",
     "output_type": "stream",
     "text": [
      "the number is positive\n"
     ]
    }
   ],
   "source": [
    "# ARIFUL ISLAM \n",
    "num=int(input(\"Enter the number:\"))\n",
    "if(num==0):\n",
    "    print(\"the number is zero\")\n",
    "elif(num>0):\n",
    "    print(\"the number is positive\")\n",
    "else:\n",
    "    print(\"the number is negative \")\n",
    "    \n",
    "\n"
   ]
  },
  {
   "cell_type": "markdown",
   "id": "f01101f9-af62-45c6-b7b4-7301fc7e21eb",
   "metadata": {},
   "source": [
    "ত্রিভুজের ক্ষেত্রফল বের কর Python proram "
   ]
  },
  {
   "cell_type": "code",
   "execution_count": 8,
   "id": "7e11e21f-41f7-4abe-bd96-08b3af7ae468",
   "metadata": {},
   "outputs": [
    {
     "name": "stdin",
     "output_type": "stream",
     "text": [
      "Enter height: 20\n",
      "Enter Widht: 20\n"
     ]
    },
    {
     "name": "stdout",
     "output_type": "stream",
     "text": [
      "tringlr area is: 200.0\n"
     ]
    }
   ],
   "source": [
    "# ARIFUL ISLAM \n",
    "a=float(input(\"Enter height:\"))\n",
    "b=float(input(\"Enter Widht:\"))\n",
    "triangle_area=0.5*a*b\n",
    "print(\"tringlr area is:\",triangle_area)\n"
   ]
  },
  {
   "cell_type": "markdown",
   "id": "9c986111-ca6b-4593-82b8-a4ed0628f13d",
   "metadata": {},
   "source": [
    "দুইটি সংখ্যা  অদলবদলের   পাইথন  প্রোগ্রাম "
   ]
  },
  {
   "cell_type": "code",
   "execution_count": 9,
   "id": "88f55cc9-30a7-48fc-8ee5-f98e539adf49",
   "metadata": {},
   "outputs": [
    {
     "name": "stdin",
     "output_type": "stream",
     "text": [
      "Enter the first number: 20\n",
      "Enter the second number 29\n"
     ]
    },
    {
     "name": "stdout",
     "output_type": "stream",
     "text": [
      "the first number is 29\n",
      "the second number is 29\n"
     ]
    }
   ],
   "source": [
    "#ARIFUL ISLAM  \n",
    "a=input(\"Enter the first number:\")\n",
    "b=input(\"Enter the second number\")\n",
    "a=b\n",
    "c=a\n",
    "b=c\n",
    "print(\"the first number is\",a)\n",
    "print(\"the second number is\",b)"
   ]
  },
  {
   "cell_type": "markdown",
   "id": "0d47dd70-8850-4738-9af7-95b457828329",
   "metadata": {},
   "source": [
    "দুইটি সংখ্যা  যোগ,বিয়োগ, গুন ও ভাগফল নির্ণয়ের পাইথন  প্রোগ্রাম"
   ]
  },
  {
   "cell_type": "code",
   "execution_count": 10,
   "id": "6b4e051b-a1d1-416c-b443-f3a34e315acc",
   "metadata": {},
   "outputs": [
    {
     "name": "stdin",
     "output_type": "stream",
     "text": [
      "Enter the first number: 10\n",
      "Enter the second  number: 20\n"
     ]
    },
    {
     "name": "stdout",
     "output_type": "stream",
     "text": [
      "the sum is: 30\n",
      "the subtaction is : -10\n",
      "the multiplication is : 200\n",
      "the division is: 0.5\n",
      "the modulus is: 10\n",
      "the floor division is: 0\n"
     ]
    }
   ],
   "source": [
    "# ARIFUL ISLAM \n",
    "num1=int(input(\"Enter the first number:\"))\n",
    "num2=int(input(\"Enter the second  number:\"))\n",
    "sum=num1+num2\n",
    "print(\"the sum is:\",sum)\n",
    "sub=num1-num2\n",
    "print(\"the subtaction is :\",sub)\n",
    "mul=num1*num2\n",
    "print(\"the multiplication is :\",mul)\n",
    "div=num1/num2\n",
    "print(\"the division is:\",div)\n",
    "mod=num1%num2\n",
    "print(\"the modulus is:\",mod)\n",
    "floor_div=num1//num2\n",
    "print(\"the floor division is:\",floor_div)"
   ]
  },
  {
   "cell_type": "markdown",
   "id": "1a4475b1-5de8-403d-928e-28c2be5a4596",
   "metadata": {},
   "source": [
    "দ্বিঘাত সমীকরণ পাইথন প্র্রোগাম"
   ]
  },
  {
   "cell_type": "code",
   "execution_count": 11,
   "id": "d5007b8f-a9d5-4bea-9fde-93a0432c883b",
   "metadata": {},
   "outputs": [
    {
     "name": "stdin",
     "output_type": "stream",
     "text": [
      "please enter the fast value: 20\n",
      "please enter the second value: 20\n",
      "please enter the thrid  value: 29\n"
     ]
    },
    {
     "name": "stdout",
     "output_type": "stream",
     "text": [
      "Root are real and equal 4 4\n"
     ]
    }
   ],
   "source": [
    "# ARIFUL ISLAM \n",
    "import math  \n",
    "a=int(input(\"please enter the fast value:\"))\n",
    "b=int(input(\"please enter the second value:\"))\n",
    "c=int(input(\"please enter the thrid  value:\"))\n",
    "D=b*b-4*a*c\n",
    "if D>0:\n",
    "    x1=-b+math.squrt(d)/2*a\n",
    "    x2=-b-math.squrt(d)/2*a\n",
    "    print(\"Root are real but unequal\",x1,x2)\n",
    "elif D==0:\n",
    "    x=-b/2*a\n",
    "print(\"Root are real and equal\",x,x)\n",
    "\n",
    " \n",
    "    "
   ]
  },
  {
   "cell_type": "markdown",
   "id": "4296502c-6519-4de4-a922-57939eb0dd8b",
   "metadata": {},
   "source": [
    "ফারেনহাইট  হতে সেলসিয়াসে রুপান্তরের  পাইথন প্রোগ্রাম"
   ]
  },
  {
   "cell_type": "code",
   "execution_count": null,
   "id": "5cf04704-c9cd-48a6-bd34-8a3ddbe49c83",
   "metadata": {},
   "outputs": [],
   "source": [
    "# ARIFUL ISLAM \n",
    "F=float(input(\"Enter Farenheit temp:\"))\n",
    "C=((f-32)*5)/9\n",
    "print(\"the celcuis  Temp is %0.3f%(c)\""
   ]
  },
  {
   "cell_type": "markdown",
   "id": "9fa1ebfb-6ea9-4267-a563-5adf3cd66376",
   "metadata": {},
   "source": [
    "বাহুর সত্যতাইপূর্বক বিষমবাহু  বা অসম বাহু ত্রিভুজের ক্ষেত্রফলের পাইথন প্রোগ্রাম"
   ]
  },
  {
   "cell_type": "code",
   "execution_count": 2,
   "id": "75932769-4635-43a7-ae93-ee97eba2ed8e",
   "metadata": {},
   "outputs": [
    {
     "ename": "SyntaxError",
     "evalue": "unmatched ')' (3879889398.py, line 8)",
     "output_type": "error",
     "traceback": [
      "\u001b[1;36m  Cell \u001b[1;32mIn[2], line 8\u001b[1;36m\u001b[0m\n\u001b[1;33m    area=math.sqrt9s*(s-a)*(s-b)*(s-c))\u001b[0m\n\u001b[1;37m                                      ^\u001b[0m\n\u001b[1;31mSyntaxError\u001b[0m\u001b[1;31m:\u001b[0m unmatched ')'\n"
     ]
    }
   ],
   "source": [
    "# ARIFUL ISLAM \n",
    "input math \n",
    "a= int(input(\"Enter the 1st value:\"))\n",
    "b= int(input(\"Enter the 2nd value:\"))\n",
    "c= int(input(\"Enter the 3rd value:\"))\n",
    "if((a+b)>c and (b+c)>a and (a+c)>b):\n",
    "    s=(a+b+c)/2\n",
    "    area=math.sqrt9s*(s-a)*(s-b)*(s-c))\n",
    "    print(\"the area os %02f\"%area)\n",
    "else:\n",
    "    print(\"the traningle is impossible \")\n",
    "    \n",
    "    \n"
   ]
  },
  {
   "cell_type": "markdown",
   "id": "8ed485ea-2cf6-468d-b5d5-0cee605a0150",
   "metadata": {},
   "source": [
    "বৃত্তে  ক্ষেত্রফল নির্ণয়ের পাইথন প্রাগাম"
   ]
  },
  {
   "cell_type": "code",
   "execution_count": 12,
   "id": "88b241aa-2916-4c74-85be-46b123680f07",
   "metadata": {},
   "outputs": [
    {
     "name": "stdin",
     "output_type": "stream",
     "text": [
      "Enter radius : 20\n"
     ]
    },
    {
     "name": "stdout",
     "output_type": "stream",
     "text": [
      "Tringle area is : 1256.6370614359173\n"
     ]
    }
   ],
   "source": [
    "# ARIFUL ISLAM \n",
    "import math\n",
    "r=float(input(\"Enter radius :\"))\n",
    "circle_area=math.pi*r*r\n",
    "print(\"Tringle area is :\",circle_area)"
   ]
  },
  {
   "cell_type": "markdown",
   "id": "1a8181b1-495d-4e77-b92b-c532f7dbb318",
   "metadata": {},
   "source": [
    "সেলসিয়াস  হতে  ফারেনহাইট রুপান্তরেরে পাইথন  প্রোগ্রাম"
   ]
  },
  {
   "cell_type": "code",
   "execution_count": 13,
   "id": "3addc062-814b-4269-ba5b-78fc2521c5a7",
   "metadata": {},
   "outputs": [
    {
     "name": "stdin",
     "output_type": "stream",
     "text": [
      "Enter celcuis temp: 20\n"
     ]
    },
    {
     "name": "stdout",
     "output_type": "stream",
     "text": [
      "the Faremheit Temp: 68.0\n"
     ]
    }
   ],
   "source": [
    "#ARIFUL ISLAM  \n",
    "c=float(input(\"Enter celcuis temp:\"))\n",
    "f=(9*c)/5+32\n",
    "print(\"the Faremheit Temp:\",f)"
   ]
  },
  {
   "cell_type": "code",
   "execution_count": null,
   "id": "1ac796b6-4cf6-4885-ae39-95cc20e41ec2",
   "metadata": {},
   "outputs": [],
   "source": []
  }
 ],
 "metadata": {
  "kernelspec": {
   "display_name": "Python 3 (ipykernel)",
   "language": "python",
   "name": "python3"
  },
  "language_info": {
   "codemirror_mode": {
    "name": "ipython",
    "version": 3
   },
   "file_extension": ".py",
   "mimetype": "text/x-python",
   "name": "python",
   "nbconvert_exporter": "python",
   "pygments_lexer": "ipython3",
   "version": "3.12.5"
  }
 },
 "nbformat": 4,
 "nbformat_minor": 5
}
