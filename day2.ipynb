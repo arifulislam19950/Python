{
 "cells": [
  {
   "cell_type": "markdown",
   "id": "510b867c-d5cb-411e-aae9-5dbbe1a2c9c1",
   "metadata": {},
   "source": [
    "Python Data Types\n"
   ]
  },
  {
   "cell_type": "code",
   "execution_count": 1,
   "id": "a5660c11-4c6c-4007-b1f4-d05bb110d4ad",
   "metadata": {},
   "outputs": [
    {
     "name": "stdout",
     "output_type": "stream",
     "text": [
      "<class 'str'>\n"
     ]
    }
   ],
   "source": [
    "a=\"arif \"\n",
    "print(type(a))"
   ]
  },
  {
   "cell_type": "code",
   "execution_count": 2,
   "id": "7c9b0e43-039c-425c-949f-73fc275d560f",
   "metadata": {},
   "outputs": [
    {
     "name": "stdout",
     "output_type": "stream",
     "text": [
      "<class 'int'>\n"
     ]
    }
   ],
   "source": [
    "b=10\n",
    "print(type(b))"
   ]
  },
  {
   "cell_type": "code",
   "execution_count": 3,
   "id": "de0204fd-cbf6-4aa5-9b2b-2b3a7a4f823b",
   "metadata": {},
   "outputs": [
    {
     "name": "stdout",
     "output_type": "stream",
     "text": [
      "<class 'float'>\n"
     ]
    }
   ],
   "source": [
    "d=22.5\n",
    "print(type(d))"
   ]
  },
  {
   "cell_type": "code",
   "execution_count": 4,
   "id": "df6edfd2-8521-45f2-b4ca-2d9988233bf1",
   "metadata": {},
   "outputs": [
    {
     "name": "stdout",
     "output_type": "stream",
     "text": [
      "<class 'dict'>\n"
     ]
    }
   ],
   "source": [
    "IMB = {\"airf\" : \"nabil\", \"Rifat\" : 36}\n",
    "print(type(IMB))"
   ]
  },
  {
   "cell_type": "code",
   "execution_count": 5,
   "id": "f9e19bbf-5556-4371-8019-2587910d9bc8",
   "metadata": {},
   "outputs": [
    {
     "name": "stdout",
     "output_type": "stream",
     "text": [
      "<class 'set'>\n"
     ]
    }
   ],
   "source": [
    "arif = {\"mim\", \"paritk\", \"jamal mia\"}\n",
    "print(type(arif))"
   ]
  },
  {
   "cell_type": "code",
   "execution_count": 6,
   "id": "1bb49c79-91d6-492f-8000-e963d9057cae",
   "metadata": {},
   "outputs": [
    {
     "name": "stdout",
     "output_type": "stream",
     "text": [
      "<class 'NoneType'>\n"
     ]
    }
   ],
   "source": [
    "gf=None\n",
    "print(type(gf))"
   ]
  },
  {
   "cell_type": "code",
   "execution_count": 7,
   "id": "0328dc26-12e2-424b-9618-dd30031329b9",
   "metadata": {},
   "outputs": [
    {
     "name": "stdout",
     "output_type": "stream",
     "text": [
      "<class 'bool'>\n"
     ]
    }
   ],
   "source": [
    "fb = True\n",
    "print(type(fb))"
   ]
  },
  {
   "cell_type": "markdown",
   "id": "d3578fed-da9f-42fd-8392-3b7c309bcb3a",
   "metadata": {},
   "source": [
    "Binary Types"
   ]
  },
  {
   "cell_type": "code",
   "execution_count": 2,
   "id": "a709b0d3-75d4-4c7c-8dba-e94b4ce8e925",
   "metadata": {},
   "outputs": [
    {
     "ename": "SyntaxError",
     "evalue": "invalid syntax (3764738217.py, line 1)",
     "output_type": "error",
     "traceback": [
      "\u001b[1;36m  Cell \u001b[1;32mIn[2], line 1\u001b[1;36m\u001b[0m\n\u001b[1;33m    list=[1,2,3,4,5,,6,7,8,9,,0,]\u001b[0m\n\u001b[1;37m                    ^\u001b[0m\n\u001b[1;31mSyntaxError\u001b[0m\u001b[1;31m:\u001b[0m invalid syntax\n"
     ]
    }
   ],
   "source": [
    "list=[1,2,3,4,5,,6,7,8,9,,0,]\n",
    "a=bytes(list)\n",
    "print(a)"
   ]
  },
  {
   "cell_type": "code",
   "execution_count": null,
   "id": "5a876741-5eb4-453e-91f1-9be3cc487254",
   "metadata": {},
   "outputs": [],
   "source": []
  }
 ],
 "metadata": {
  "kernelspec": {
   "display_name": "Python 3 (ipykernel)",
   "language": "python",
   "name": "python3"
  },
  "language_info": {
   "codemirror_mode": {
    "name": "ipython",
    "version": 3
   },
   "file_extension": ".py",
   "mimetype": "text/x-python",
   "name": "python",
   "nbconvert_exporter": "python",
   "pygments_lexer": "ipython3",
   "version": "3.12.5"
  }
 },
 "nbformat": 4,
 "nbformat_minor": 5
}
