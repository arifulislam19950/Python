{
 "cells": [
  {
   "cell_type": "markdown",
   "id": "0884f8bf-0e18-477b-adb0-d5849a89b634",
   "metadata": {},
   "source": [
    "# "
   ]
  },
  {
   "cell_type": "code",
   "execution_count": null,
   "id": "3be9bc48-a3b9-45cf-99cd-8d7747e53470",
   "metadata": {},
   "outputs": [],
   "source": [
    "username = input(\"Enter username:\")\n",
    "print(\"Username is: \" + username)\n"
   ]
  },
  {
   "cell_type": "code",
   "execution_count": null,
   "id": "0190994e-b11c-4ea0-aecf-a857368686d2",
   "metadata": {},
   "outputs": [],
   "source": [
    "a=int(input(\"enter the fast number:\"))\n",
    "b=int(input(\"enter the second  number:\"))\n",
    "c=int(input(\"enter the thrid number:\"))\n",
    " smallest=0\n",
    "if a<b and a<c:\n",
    "    smallest=a\n",
    "elif b<c :\n",
    "    smallest = b \n",
    "else:\n",
    "    smallest = c\n",
    "    print(smallest, \"is the smallest of three numbers .\")\n",
    "    \n",
    "\n",
    "\n"
   ]
  },
  {
   "cell_type": "code",
   "execution_count": null,
   "id": "d0bdfea7-a0a4-4b77-b920-f8ae2bdb8a33",
   "metadata": {},
   "outputs": [],
   "source": [
    "a=int(input(\"enter the fast number:\"))\n",
    "b=int(input(\"enter the second  number:\"))\n",
    "c=int(input(\"enter the thrid number:\"))\n",
    " smallest=0\n",
    "if a<b and a<c:\n",
    "    smallest=a\n",
    "elif b<c :\n",
    "    smallest = b \n",
    "else:\n",
    "    smallest = c\n",
    "    print(smallest, \"is the smallest of three numbers .\")"
   ]
  },
  {
   "cell_type": "code",
   "execution_count": null,
   "id": "60c747fb-44fa-4270-a3c2-16f4f09f9810",
   "metadata": {},
   "outputs": [],
   "source": []
  }
 ],
 "metadata": {
  "kernelspec": {
   "display_name": "Python 3 (ipykernel)",
   "language": "python",
   "name": "python3"
  },
  "language_info": {
   "codemirror_mode": {
    "name": "ipython",
    "version": 3
   },
   "file_extension": ".py",
   "mimetype": "text/x-python",
   "name": "python",
   "nbconvert_exporter": "python",
   "pygments_lexer": "ipython3",
   "version": "3.12.5"
  }
 },
 "nbformat": 4,
 "nbformat_minor": 5
}
