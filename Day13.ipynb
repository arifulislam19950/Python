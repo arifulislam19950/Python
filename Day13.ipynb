{
 "cells": [
  {
   "cell_type": "code",
   "execution_count": 2,
   "id": "94bf11c4-d88d-4501-b70a-243c07069773",
   "metadata": {},
   "outputs": [
    {
     "name": "stdout",
     "output_type": "stream",
     "text": [
      "200\n"
     ]
    }
   ],
   "source": [
    "a=20\n",
    "b=50\n",
    "c=30\n",
    "d=100\n",
    "arif=a+b+c+d\n",
    "print(arif)"
   ]
  },
  {
   "cell_type": "code",
   "execution_count": 4,
   "id": "e5e56278-9934-460f-a87c-e356d8952964",
   "metadata": {},
   "outputs": [
    {
     "name": "stdout",
     "output_type": "stream",
     "text": [
      "25.0\n"
     ]
    }
   ],
   "source": [
    "b=10\n",
    "c=5\n",
    "area=1/2 *b *c\n",
    "print(area)"
   ]
  },
  {
   "cell_type": "code",
   "execution_count": 6,
   "id": "ad5a2342-b213-4057-a9f9-8cf43a1e43c2",
   "metadata": {},
   "outputs": [
    {
     "name": "stdout",
     "output_type": "stream",
     "text": [
      "200\n"
     ]
    }
   ],
   "source": [
    "a=10\n",
    "b=20\n",
    "area=a*b\n",
    "print(area)"
   ]
  },
  {
   "cell_type": "code",
   "execution_count": 8,
   "id": "6aa4f036-bf92-4914-8d3a-131dcc717254",
   "metadata": {},
   "outputs": [
    {
     "name": "stdout",
     "output_type": "stream",
     "text": [
      "31415.999999999996\n"
     ]
    }
   ],
   "source": [
    "r=100\n",
    "d=3.1416\n",
    "area=d*r*r\n",
    "print(area)"
   ]
  },
  {
   "cell_type": "code",
   "execution_count": 13,
   "id": "85b17daa-6a8a-45c2-8a1b-124880c9a17a",
   "metadata": {},
   "outputs": [
    {
     "name": "stdout",
     "output_type": "stream",
     "text": [
      "66.66666666666667\n",
      "30\n"
     ]
    }
   ],
   "source": [
    "arif=100\n",
    "nabil=20\n",
    "rifat=80\n",
    "all=arif+nabil+rifat\n",
    "gor=all/3\n",
    "print(gor)\n",
    "tea=230\n",
    "shirt_taka=tea-all\n",
    "print(shirt_taka)\n"
   ]
  },
  {
   "cell_type": "code",
   "execution_count": 2,
   "id": "eee5e213-3786-40c3-8968-6aed8a90d67b",
   "metadata": {},
   "outputs": [
    {
     "ename": "",
     "evalue": "",
     "output_type": "error",
     "traceback": [
      "\u001b[1;31mThe Kernel crashed while executing code in the current cell or a previous cell. \n",
      "\u001b[1;31mPlease review the code in the cell(s) to identify a possible cause of the failure. \n",
      "\u001b[1;31mClick <a href='https://aka.ms/vscodeJupyterKernelCrash'>here</a> for more info. \n",
      "\u001b[1;31mView Jupyter <a href='command:jupyter.viewOutput'>log</a> for further details."
     ]
    }
   ],
   "source": [
    "from turtle import *\n",
    "color(\"red\")\n",
    "left(50)\n",
    "forward(100)\n",
    "circle(40,180)\n",
    "left(260)\n",
    "circle(40,180)\n",
    "forward(100)\n"
   ]
  },
  {
   "cell_type": "code",
   "execution_count": null,
   "id": "e539a867-1c2f-4d9c-9b17-f4b2aac5dfbf",
   "metadata": {},
   "outputs": [],
   "source": []
  },
  {
   "cell_type": "code",
   "execution_count": null,
   "id": "2c91af8e-720a-4eb9-9927-7ba5ab2a1436",
   "metadata": {},
   "outputs": [],
   "source": []
  }
 ],
 "metadata": {
  "kernelspec": {
   "display_name": "Python 3 (ipykernel)",
   "language": "python",
   "name": "python3"
  },
  "language_info": {
   "codemirror_mode": {
    "name": "ipython",
    "version": 3
   },
   "file_extension": ".py",
   "mimetype": "text/x-python",
   "name": "python",
   "nbconvert_exporter": "python",
   "pygments_lexer": "ipython3",
   "version": "3.12.5"
  }
 },
 "nbformat": 4,
 "nbformat_minor": 5
}
