{
 "cells": [
  {
   "cell_type": "markdown",
   "id": "768e9bd4-7327-4450-b71c-8f2fba4a04d3",
   "metadata": {},
   "source": [
    "Python If------- Else"
   ]
  },
  {
   "cell_type": "code",
   "execution_count": 4,
   "id": "7d629ae7-9ecf-4698-a97a-4cb5602e5e44",
   "metadata": {},
   "outputs": [
    {
     "name": "stdout",
     "output_type": "stream",
     "text": [
      "arif and nabil are equal\n"
     ]
    }
   ],
   "source": [
    "arif = 20\n",
    "nabil= 33\n",
    "if b > a:\n",
    "  print(\"nabil is greater than arif\")\n",
    "elif a == b:\n",
    "  print(\"arif and nabil are equal\")"
   ]
  },
  {
   "cell_type": "code",
   "execution_count": 6,
   "id": "b13b3d87-e723-448a-b8f0-56d9f68b41d4",
   "metadata": {},
   "outputs": [
    {
     "name": "stdout",
     "output_type": "stream",
     "text": [
      "a and b are equal\n"
     ]
    }
   ],
   "source": [
    "a = 33\n",
    "b = 33\n",
    "if b > a:\n",
    "  print(\"b is greater than a\")\n",
    "elif a == b:\n",
    "  print(\"a and b are equal\")"
   ]
  },
  {
   "cell_type": "code",
   "execution_count": 8,
   "id": "cef3fd06-0e03-49fd-b145-197cfd5941a3",
   "metadata": {},
   "outputs": [
    {
     "name": "stdout",
     "output_type": "stream",
     "text": [
      "mango is not greater than apple\n"
     ]
    }
   ],
   "source": [
    "apple= 200\n",
    "mango= 33\n",
    "if b > apple:\n",
    "  print(\"mango is greater than apple\")\n",
    "else:\n",
    "  print(\"mango is not greater than apple\")\n"
   ]
  },
  {
   "cell_type": "code",
   "execution_count": 10,
   "id": "4f65943c-15db-4c28-a559-291f34ddeba8",
   "metadata": {},
   "outputs": [
    {
     "name": "stdout",
     "output_type": "stream",
     "text": [
      "arif is greater then rifat\n"
     ]
    }
   ],
   "source": [
    "rifat=100\n",
    "arif=55566\n",
    "if arif > rifat:\n",
    "    print(\"arif is greater then rifat\")\n",
    "else:\n",
    "    print(\"arif is not greater then rifat\")"
   ]
  },
  {
   "cell_type": "code",
   "execution_count": null,
   "id": "e4f9a885-6717-4f6c-9492-92c3a58fa10b",
   "metadata": {},
   "outputs": [],
   "source": [
    "var="
   ]
  }
 ],
 "metadata": {
  "kernelspec": {
   "display_name": "Python 3 (ipykernel)",
   "language": "python",
   "name": "python3"
  },
  "language_info": {
   "codemirror_mode": {
    "name": "ipython",
    "version": 3
   },
   "file_extension": ".py",
   "mimetype": "text/x-python",
   "name": "python",
   "nbconvert_exporter": "python",
   "pygments_lexer": "ipython3",
   "version": "3.12.5"
  }
 },
 "nbformat": 4,
 "nbformat_minor": 5
}
