{
 "cells": [
  {
   "cell_type": "code",
   "execution_count": null,
   "id": "082acd52-b41a-4639-9de1-9b73fe9b234d",
   "metadata": {},
   "outputs": [],
   "source": []
  },
  {
   "cell_type": "code",
   "execution_count": 5,
   "id": "d9098ab0-be3c-4209-941e-70381e68ccb4",
   "metadata": {},
   "outputs": [
    {
     "ename": "IndentationError",
     "evalue": "unexpected indent (186970198.py, line 4)",
     "output_type": "error",
     "traceback": [
      "\u001b[1;36m  Cell \u001b[1;32mIn[5], line 4\u001b[1;36m\u001b[0m\n\u001b[1;33m    print(\"arif1 U arif2:\",set.union(arif2)\u001b[0m\n\u001b[1;37m    ^\u001b[0m\n\u001b[1;31mIndentationError\u001b[0m\u001b[1;31m:\u001b[0m unexpected indent\n"
     ]
    }
   ],
   "source": [
    "arif1={2,4,5,6}\n",
    "arif2={3.,6,9,12}\n",
    "arif3={2,4,8,16}\n",
    " print(\"arif1 U arif2:\",set.union(arif2)"
   ]
  },
  {
   "cell_type": "code",
   "execution_count": null,
   "id": "8423a172-42d0-4ae8-ad5a-5151778396ca",
   "metadata": {},
   "outputs": [],
   "source": []
  },
  {
   "cell_type": "code",
   "execution_count": 6,
   "id": "2d8e8ecf-4864-40dc-98f2-16c76ec1d9d7",
   "metadata": {},
   "outputs": [
    {
     "ename": "AttributeError",
     "evalue": "'set' object has no attribute 'instersection'",
     "output_type": "error",
     "traceback": [
      "\u001b[1;31m---------------------------------------------------------------------------\u001b[0m",
      "\u001b[1;31mAttributeError\u001b[0m                            Traceback (most recent call last)",
      "Cell \u001b[1;32mIn[6], line 4\u001b[0m\n\u001b[0;32m      2\u001b[0m arif2\u001b[38;5;241m=\u001b[39m{\u001b[38;5;241m4\u001b[39m,\u001b[38;5;241m6\u001b[39m,\u001b[38;5;241m7\u001b[39m,\u001b[38;5;241m8\u001b[39m}\n\u001b[0;32m      3\u001b[0m arif3\u001b[38;5;241m=\u001b[39m{\u001b[38;5;241m4\u001b[39m,\u001b[38;5;241m6\u001b[39m,\u001b[38;5;241m8\u001b[39m}\n\u001b[1;32m----> 4\u001b[0m \u001b[38;5;28mprint\u001b[39m(\u001b[38;5;124m\"\u001b[39m\u001b[38;5;124marif1 intersection arif2 :\u001b[39m\u001b[38;5;124m\"\u001b[39m,\u001b[43marif1\u001b[49m\u001b[38;5;241;43m.\u001b[39;49m\u001b[43minstersection\u001b[49m(arif2))\n",
      "\u001b[1;31mAttributeError\u001b[0m: 'set' object has no attribute 'instersection'"
     ]
    }
   ],
   "source": [
    "arif1={2,4,5,6,}\n",
    "arif2={4,6,7,8}\n",
    "arif3={4,6,8}\n",
    "print(\"arif1 intersection arif2 :\", arif1.instersection(arif2))"
   ]
  },
  {
   "cell_type": "code",
   "execution_count": null,
   "id": "9a4c776d-e04a-4dc4-a8c3-99ffeba44dac",
   "metadata": {},
   "outputs": [],
   "source": []
  },
  {
   "cell_type": "code",
   "execution_count": null,
   "id": "fc685fdb-3653-4ab3-9951-cc8f2c76ed43",
   "metadata": {},
   "outputs": [],
   "source": []
  }
 ],
 "metadata": {
  "kernelspec": {
   "display_name": "Python 3 (ipykernel)",
   "language": "python",
   "name": "python3"
  },
  "language_info": {
   "codemirror_mode": {
    "name": "ipython",
    "version": 3
   },
   "file_extension": ".py",
   "mimetype": "text/x-python",
   "name": "python",
   "nbconvert_exporter": "python",
   "pygments_lexer": "ipython3",
   "version": "3.12.5"
  }
 },
 "nbformat": 4,
 "nbformat_minor": 5
}
