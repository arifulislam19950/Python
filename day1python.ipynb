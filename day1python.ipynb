{
 "cells": [
  {
   "cell_type": "markdown",
   "id": "b7830631-5ed3-4e06-a39f-7d89be110afd",
   "metadata": {},
   "source": [
    "Python Variables\n"
   ]
  },
  {
   "cell_type": "code",
   "execution_count": 2,
   "id": "ac7aa7e6-4794-47a3-bfb9-495b05780879",
   "metadata": {},
   "outputs": [
    {
     "data": {
      "text/plain": [
       "20"
      ]
     },
     "execution_count": 2,
     "metadata": {},
     "output_type": "execute_result"
    }
   ],
   "source": [
    "#Variables are containers for storing data values\n",
    "# ARIFUL ISLAM .\n",
    "a=10\n",
    "b=10\n",
    "a+b\n"
   ]
  },
  {
   "cell_type": "code",
   "execution_count": 4,
   "id": "ff54631d-3ffb-423f-b338-eb1b99e31b01",
   "metadata": {},
   "outputs": [
    {
     "data": {
      "text/plain": [
       "'arifnabil'"
      ]
     },
     "execution_count": 4,
     "metadata": {},
     "output_type": "execute_result"
    }
   ],
   "source": [
    "# ARIFUL ISLMA \n",
    "c=\"arif\"\n",
    "b=\"nabil\"\n",
    "c+b"
   ]
  },
  {
   "cell_type": "code",
   "execution_count": 15,
   "id": "294b4add-635d-485d-8c44-b7ce02ba6888",
   "metadata": {},
   "outputs": [
    {
     "name": "stdout",
     "output_type": "stream",
     "text": [
      "arif\n"
     ]
    }
   ],
   "source": [
    "a, b, c, f=\"arif\", \"nabil\", \"mim\", \"paritk\"\n",
    "print(a)\n"
   ]
  },
  {
   "cell_type": "code",
   "execution_count": 9,
   "id": "118b6d68-62a1-472a-9faa-621bcda7bf7c",
   "metadata": {},
   "outputs": [
    {
     "name": "stdout",
     "output_type": "stream",
     "text": [
      "Orange\n",
      "Banana\n",
      "Cherry\n"
     ]
    }
   ],
   "source": [
    "x, y, z = \"Orange\", \"Banana\", \"Cherry\"\n",
    "\n",
    "print(x)\n",
    "print(y)\n",
    "print(z)\n"
   ]
  },
  {
   "cell_type": "code",
   "execution_count": 13,
   "id": "d06a1d80-b44f-4472-bfb1-ae153ff11773",
   "metadata": {},
   "outputs": [
    {
     "name": "stdout",
     "output_type": "stream",
     "text": [
      "arif\n",
      "nabil\n",
      "mim\n",
      "paritk\n"
     ]
    }
   ],
   "source": [
    "a, b, c, d=\"arif\", \"nabil\", \"mim\", \"paritk\"\n",
    "print(a)\n",
    "print(b)\n",
    "print(c)\n",
    "print(d)"
   ]
  },
  {
   "cell_type": "code",
   "execution_count": 16,
   "id": "c9065959-9527-4541-adc9-6878049e2dc4",
   "metadata": {},
   "outputs": [
    {
     "name": "stdout",
     "output_type": "stream",
     "text": [
      "30\n"
     ]
    }
   ],
   "source": [
    "apple=10\n",
    "bannana=20\n",
    "print(apple+bannana)"
   ]
  },
  {
   "cell_type": "code",
   "execution_count": 20,
   "id": "26c6c29a-44cb-4762-8768-f7c0c66c54bc",
   "metadata": {},
   "outputs": [
    {
     "name": "stdout",
     "output_type": "stream",
     "text": [
      "i love you taka \n"
     ]
    }
   ],
   "source": [
    "a=\"i love \"\n",
    "b=\"you\"\n",
    "c=\" taka \"\n",
    "print(a+b+c)"
   ]
  },
  {
   "cell_type": "code",
   "execution_count": null,
   "id": "4791b660-9452-41ba-aeb7-5d552837c893",
   "metadata": {},
   "outputs": [],
   "source": []
  }
 ],
 "metadata": {
  "kernelspec": {
   "display_name": "Python 3 (ipykernel)",
   "language": "python",
   "name": "python3"
  },
  "language_info": {
   "codemirror_mode": {
    "name": "ipython",
    "version": 3
   },
   "file_extension": ".py",
   "mimetype": "text/x-python",
   "name": "python",
   "nbconvert_exporter": "python",
   "pygments_lexer": "ipython3",
   "version": "3.12.5"
  }
 },
 "nbformat": 4,
 "nbformat_minor": 5
}
