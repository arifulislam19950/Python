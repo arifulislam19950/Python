{
 "cells": [
  {
   "cell_type": "code",
   "execution_count": 1,
   "id": "7f15f9a4-884e-42cd-9f7c-abd1974c8fc5",
   "metadata": {},
   "outputs": [
    {
     "name": "stdin",
     "output_type": "stream",
     "text": [
      "Enter the number  20\n"
     ]
    },
    {
     "name": "stdout",
     "output_type": "stream",
     "text": [
      "20\n"
     ]
    }
   ],
   "source": [
    "# ARIFUL ISLAM\n",
    "ARIF=int(input(\"Enter the number \"))\n",
    "print(ARIF)"
   ]
  },
  {
   "cell_type": "code",
   "execution_count": 3,
   "id": "3c4ac1dd-e572-4785-b659-3c1e0a45e9c2",
   "metadata": {},
   "outputs": [
    {
     "name": "stdout",
     "output_type": "stream",
     "text": [
      "I_LOVE\n"
     ]
    }
   ],
   "source": [
    "LOVE=1000\n",
    "HAD=500\n",
    "I_LOVE=LOVE+HAD\n",
    "print(\"I_LOVE\")"
   ]
  },
  {
   "cell_type": "code",
   "execution_count": null,
   "id": "138ef172-9bc4-4aa4-acfe-9175126e8233",
   "metadata": {},
   "outputs": [],
   "source": []
  }
 ],
 "metadata": {
  "kernelspec": {
   "display_name": "Python 3 (ipykernel)",
   "language": "python",
   "name": "python3"
  },
  "language_info": {
   "codemirror_mode": {
    "name": "ipython",
    "version": 3
   },
   "file_extension": ".py",
   "mimetype": "text/x-python",
   "name": "python",
   "nbconvert_exporter": "python",
   "pygments_lexer": "ipython3",
   "version": "3.12.5"
  }
 },
 "nbformat": 4,
 "nbformat_minor": 5
}
