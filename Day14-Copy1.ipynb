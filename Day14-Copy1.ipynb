{
 "cells": [
  {
   "cell_type": "code",
   "execution_count": null,
   "id": "f9816f16-41a7-4ed4-836d-7f0175070fd3",
   "metadata": {},
   "outputs": [],
   "source": [
    "arif=0\n",
    "while arif<5:\n",
    "    print(\"arif is ran now \",arif)\n",
    "    arif=arif+5 \n"
   ]
  },
  {
   "cell_type": "code",
   "execution_count": null,
   "id": "4c69f3c5-7624-4853-b2c1-cc2fc4a9ba57",
   "metadata": {},
   "outputs": [],
   "source": []
  }
 ],
 "metadata": {
  "kernelspec": {
   "display_name": "Python 3 (ipykernel)",
   "language": "python",
   "name": "python3"
  },
  "language_info": {
   "codemirror_mode": {
    "name": "ipython",
    "version": 3
   },
   "file_extension": ".py",
   "mimetype": "text/x-python",
   "name": "python",
   "nbconvert_exporter": "python",
   "pygments_lexer": "ipython3",
   "version": "3.12.5"
  }
 },
 "nbformat": 4,
 "nbformat_minor": 5
}
